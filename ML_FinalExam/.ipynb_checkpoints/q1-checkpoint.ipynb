{
 "cells": [
  {
   "cell_type": "code",
   "execution_count": 1,
   "metadata": {},
   "outputs": [],
   "source": [
    "import numpy as np\n",
    "train_data = np.load(\"data/train_data1.npy\")\n",
    "train_label = np.load(\"data/train_label1.npy\")\n",
    "test_data = np.load(\"data/test_data1.npy\")\n",
    "test_label = np.load(\"data/test_label1.npy\")"
   ]
  },
  {
   "cell_type": "code",
   "execution_count": 2,
   "metadata": {
    "scrolled": true
   },
   "outputs": [
    {
     "name": "stdout",
     "output_type": "stream",
     "text": [
      "0.59\n"
     ]
    }
   ],
   "source": [
    "\"\"\"\n",
    "accuracy in test data\n",
    "\"\"\"\n",
    "import sklearn\n",
    "from sklearn import svm\n",
    "CLASSFIER = svm.SVC(gamma=0.001, C=100.)\n",
    "CLASSFIER.fit(train_data, train_label)\n",
    "y_pred = CLASSFIER.predict(test_data)\n",
    "correct_prediction = np.equal(y_pred, test_label)\n",
    "accuracy = np.mean(correct_prediction.astype(np.float32))\n",
    "print(accuracy)"
   ]
  },
  {
   "cell_type": "code",
   "execution_count": 3,
   "metadata": {
    "scrolled": true
   },
   "outputs": [
    {
     "name": "stdout",
     "output_type": "stream",
     "text": [
      "1.0\n"
     ]
    }
   ],
   "source": [
    "\"\"\"\n",
    "Accuracy in training data\n",
    "\"\"\"\n",
    "y_pred = CLASSFIER.predict(train_data)\n",
    "correct_prediction = np.equal(y_pred, train_label)\n",
    "accuracy = np.mean(correct_prediction.astype(np.float32))\n",
    "print(accuracy)"
   ]
  },
  {
   "cell_type": "code",
   "execution_count": 4,
   "metadata": {},
   "outputs": [],
   "source": [
    "\"\"\"\n",
    "find best feature indicies to use in classfier by cross_validation\n",
    "\"\"\"\n",
    "def k_fold_cross_validation(k, X ,Y,numpySeedNumber):\n",
    "    N = X.shape[0]\n",
    "    part_N = int(np.floor(N / k))\n",
    "    values = []  # this list will hold the mean,std dev,r2_score in each validation\n",
    "    max_accuracy=0\n",
    "    max_column_indicies=None\n",
    "    for i in range(k):\n",
    "        # use i'th part as the validation set\n",
    "        validation_X = X[i*part_N:(i+1)*part_N,:]\n",
    "        training_X = np.concatenate((X[:i*part_N,:],X[(i+1)*part_N:,:]), axis=0)\n",
    "        validation_Y = Y[i*part_N:(i+1)*part_N]\n",
    "        training_Y = np.concatenate((Y[:i*part_N],Y[(i+1)*part_N:]), axis=0)\n",
    "        accuracy,column_indicies=execute(training_X,validation_X,training_Y,validation_Y,max_itr_count=25,numpySeedNumber=numpySeedNumber)\n",
    "        if accuracy>max_accuracy:\n",
    "            max_column_indicies=column_indicies\n",
    "            max_accuracy=accuracy\n",
    "    return max_column_indicies,max_accuracy\n"
   ]
  },
  {
   "cell_type": "code",
   "execution_count": 5,
   "metadata": {},
   "outputs": [],
   "source": [
    "\"\"\"\n",
    "execute given data with execution_repeat_count number of times\n",
    "return best values for \"max_exe_acc,clf_exe,column_indicies\"\n",
    "\"\"\"\n",
    "def execute(X_train,X_test,Y_train,Y_test,max_itr_count,numpySeedNumber):\n",
    "    np.random.seed(numpySeedNumber) \n",
    "    training_X=None\n",
    "    curr_column_indicies=[]\n",
    "    itr=0\n",
    "    classifier=None\n",
    "    max_accuracy=0\n",
    "    while itr<max_itr_count:\n",
    "        itr+=1\n",
    "        clf = CLASSFIER #Same classifier\n",
    "        X_new,new_col_index,curr_column_indicies=rand_col_sampling(X_old=training_X,curr_column_indicies=curr_column_indicies,data=X_train)\n",
    "        clf.fit(X_new, Y_train)\n",
    "        test_data_new=rand_col_sampling(X_old=None,curr_column_indicies=curr_column_indicies+[new_col_index],data=X_test,only_selection=True)\n",
    "        y_pred = clf.predict(test_data_new)\n",
    "        correct_prediction = np.equal(y_pred, Y_test)\n",
    "        accuracy = np.mean(correct_prediction.astype(np.float32))\n",
    "        if accuracy>max_accuracy:\n",
    "            curr_column_indicies+=[new_col_index]\n",
    "            max_accuracy=accuracy\n",
    "            training_X=X_new\n",
    "\n",
    "    return max_accuracy,curr_column_indicies"
   ]
  },
  {
   "cell_type": "code",
   "execution_count": 6,
   "metadata": {},
   "outputs": [],
   "source": [
    "\"\"\"\n",
    "takes X_old and add new random column of data into it, if only_selection=True\n",
    "just select given column indicies from data and return them.\n",
    "\"\"\"\n",
    "\n",
    "def rand_col_sampling(X_old,curr_column_indicies,data,only_selection=False):\n",
    "\n",
    "    if only_selection: #if only selection then just return columns at column_indicies\n",
    "        X_new=None\n",
    "        for ind in curr_column_indicies:\n",
    "            if X_new is None: #first column\n",
    "                X_new = data[:,ind]\n",
    "            else: #other columns\n",
    "                X_new = np.concatenate((X_new,data[:,ind]), axis=1)\n",
    "        return X_new\n",
    "    else: #if not only_selection then add random column to X_old\n",
    "        max_col_count=data.shape[1]\n",
    "        X_new=X_old\n",
    "        rand=np.random.randint(max_col_count, size=(1))\n",
    "        while rand in curr_column_indicies:\n",
    "            rand=np.random.randint(max_col_count, size=(1))\n",
    "        if X_old is None:\n",
    "            X_new = data[:,rand]\n",
    "        else:\n",
    "            X_new = np.concatenate((X_old,data[:,rand]), axis=1)\n",
    "        return X_new,rand,curr_column_indicies"
   ]
  },
  {
   "cell_type": "code",
   "execution_count": 7,
   "metadata": {},
   "outputs": [],
   "source": [
    "#k_fold to find best classfier trained with features at column_indicies\n",
    "column_indicies,validation_accuracy=k_fold_cross_validation(k=10, X=train_data ,Y=train_label,numpySeedNumber=0)"
   ]
  },
  {
   "cell_type": "code",
   "execution_count": 8,
   "metadata": {},
   "outputs": [
    {
     "name": "stdout",
     "output_type": "stream",
     "text": [
      "0.9925\n"
     ]
    }
   ],
   "source": [
    "\n",
    "train_data_new=rand_col_sampling(X_old=None,curr_column_indicies=column_indicies,data=train_data,only_selection=True)\n",
    "#use selected columns of test_data to predict labels\n",
    "test_data_new=rand_col_sampling(X_old=None,curr_column_indicies=column_indicies,data=test_data,only_selection=True)\n",
    "CLASSFIER.fit(train_data_new, train_label)\n",
    "#predict test_data\n",
    "y_pred = CLASSFIER.predict(test_data_new)\n",
    "#get accuracy\n",
    "correct_prediction = np.equal(y_pred, test_label)\n",
    "accuracy = np.mean(correct_prediction.astype(np.float32))\n",
    "print(accuracy)\n"
   ]
  }
 ],
 "metadata": {
  "kernelspec": {
   "display_name": "Python 3",
   "language": "python",
   "name": "python3"
  },
  "language_info": {
   "codemirror_mode": {
    "name": "ipython",
    "version": 3
   },
   "file_extension": ".py",
   "mimetype": "text/x-python",
   "name": "python",
   "nbconvert_exporter": "python",
   "pygments_lexer": "ipython3",
   "version": "3.7.4"
  }
 },
 "nbformat": 4,
 "nbformat_minor": 2
}
